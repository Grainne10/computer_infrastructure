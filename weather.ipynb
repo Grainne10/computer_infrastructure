{
 "cells": [
  {
   "cell_type": "markdown",
   "metadata": {},
   "source": [
    "# Computer infrastructure - Tasks\n",
    "\n",
    "**by Grainne Boyle**\n",
    "\n",
    "\n",
    "This notebook describes the weekly tasks I have completed for the Computer infrastructure module.\n"
   ]
  },
  {
   "cell_type": "markdown",
   "metadata": {},
   "source": [
    "**Contents:** \n",
    "\n",
    "[Task 1](#create-directory-structure)  \n",
    "[Task 2](#timestamps)  \n",
    "[Task 3](#formatting-timestamps)  \n",
    "[Task 4](#create-timestamped-file)  \n",
    "[Task 5](#download-todays-weather-data)  \n",
    "[Task 6](#timestamp-the-data)  \n",
    "[Task 7](#write-the-script)  \n",
    "[Task 8](#notebook)  \n",
    "[Task 9](#pandas)  \n"
   ]
  },
  {
   "cell_type": "markdown",
   "metadata": {},
   "source": [
    "## Create Directory Structure\n",
    "In code spaces, I created a new directory structure called data using the `mkdir` command. The command stands for  make directory and is used to create a folder within the main directory. I created two sub-directories within data: timestamps and weather,  again using mkdir. To create the parent directory data and the sub-directory timestamps, I used the following command:   ```mkdir -p data/timestamps```.  \n",
    "The -p flag ensures that if the parent directory data does not exist, it will be created along with the timestamps subdirectory."
   ]
  },
  {
   "cell_type": "markdown",
   "metadata": {},
   "source": [
    "## Timestamps\n",
    "In the codespace, I ran the `date` command , which printed the current date and time . To save this output to a file, I used double angle brackets (>>) to redirect and append the output to a new file called now.txt. The command was:  \n",
    "```date >> now.txt``` \n",
    "By running this command ten times, using the double angled brackets , new output was appended to now.txt. The double angle brackets ensure that the command output is added to the file without overwriting it. If I had used a single angled bracket , >, this would over-write the file each time the command is executed. The result of the running this command ten times can be seen in the now.txt file , which shows a list of dates and times. In this case, the dates and hours are the same, but the minutes and seconds differ with each execution.\n",
    " "
   ]
  },
  {
   "cell_type": "markdown",
   "metadata": {},
   "source": [
    "## Formatting Timestamps\n",
    "In the codespace, I formatted the `date` command using `YYYYmmdd_HHMMSS`. In this format, I used upper case letters for the year, hour, minute and second, and lower case for the month and day. You can view the manual for the `date` command by running `man date`, which explains the different format specifiers you can use to customize how the date and time appear. When I entered the following command:  \n",
    "```date + \"YYYYmmdd_HHMMSS\" ```\n",
    "It displayed the formatted date and time in the command line. Next I appended the formatted output date to a file named formatted.txt. This was done using the double angle brackets (>>), like so:  \n",
    "```date +\"YYYYmmdd_HHMMSS\" >> formatted.txt```\n",
    "This created a new text file in my folder, if you open this text file you can see the date and time it was created, formatted as specified."
   ]
  },
  {
   "cell_type": "markdown",
   "metadata": {},
   "source": [
    "## Create Timestamped File\n",
    "In the codespace, I used the `touch` command to create a new file with a timestamp file. By enclosing the command in backticks, I capture the output of the `date` command and used it as part of the file name. I used:  \n",
    "```touch `date +\"%Y%m%d_%H%M%S\"`.txt ```   \n",
    "This created an empty file with a timestamp in the format YYYYmmdd_HHMMSS. The `touch` command is used to create a file with a given name if the file doesn't already exist. It can also be used to update a file with a current timestamp if the file already exists.\n"
   ]
  },
  {
   "cell_type": "markdown",
   "metadata": {},
   "source": [
    "## Download Todays Weather Data\n",
    " I opened the Met Eireann website and found the weather data for today. I then used the `wget` command to download the weather:     \n",
    " ```bash\n",
    "wget https://prodapi.metweb.ie/observations/athenry/today\n",
    "  ```\n",
    "\n",
    " The `wget` command allows you to download files from the internet into your active directory. Next I use `wget` with `-O`  and this is used to save the output to a file called weather.json.   \n",
    "\n",
    " ```bash\n",
    "wget -O weather.json https://prodapi.metweb.ie/observations/athenry/today\n",
    "```\n",
    "\n",
    " By opening the weather.json file, you can view the weather data for Athenry in JSON format.\n",
    "\n",
    "\n",
    "\n",
    " "
   ]
  },
  {
   "cell_type": "markdown",
   "metadata": {},
   "source": [
    "## Timestamp the Data\n",
    " Using the cURL command,  I downloaded the data again and saved it to a file in my directory with a timestamped name in the format.\n",
    "\n",
    " ``` curl -o `date +\"%Y%m%d_%H%M%S.json\"` https://prodapi.metweb.ie/observations/athenry/today```\n",
    "This saved the athenry data to a file named \"20241116__215129.json which is when the file was created 16th November 2024 at 9:51:29pm. If you open the file you can see the downloaded data from the Athenry weather today.\n",
    "\n",
    "\n",
    "[https://blog.hubspot.com/website/curl-command](https://blog.hubspot.com/website/curl-command) you can send or retrieve data using this command. cURL is short for \"client URL\". It can be used instead of the wget command. If you were enter the command with the URL, the URL data will print in the terminal. In our case, we have used it to pull the data and save that data to a file with a stamped name in the format YYYYmmdd_HHMMSS\n",
    "\n",
    "\n"
   ]
  },
  {
   "cell_type": "markdown",
   "metadata": {},
   "source": [
    "## Write the Script\n",
    "I created a file in my repository called weather.sh. A file with the extension .sh is a shell file or program that can be run in a command line interface. It can be used to automate processes.\n",
    "The script can command the computer or machine to run the tasks at a scheduled time. The shebang phrase \"#!/bin/bash signifies the file is a shell script and must be the first line of the script.\n",
    "When I load the command used in the previous step to my script but I want to save the output to the directory data/weather/ that that file is in   ``` curl -o data/weather/`date +\"%Y%m%d_%H%M%S.json\"` https://prodapi.metweb.ie/observations/athenry/today```\n",
    "You can also use echo\"enter string or variable\" By using 'echo', strings or variables can be executed. \n",
    "\n",
    "Also, I need to change the mode of the file, when I tried to run it is showed permission denied. The command 'chmod' stands for 'change mode', and 'u+x' instructs the system to give the user(u) permissions to execute (x) the file. I entered ```chmod u+x ./weather.sh``` in the command line. Then when I run the program in the command line,\n"
   ]
  },
  {
   "cell_type": "markdown",
   "metadata": {},
   "source": [
    "## Notebook\n",
    "\n",
    "I created this jupyter notebook called weather.ipynb. In this notebook, I have written a report explaining how I completed each Task 1 to 7. I explain the commands I use and their roles in completing the task."
   ]
  },
  {
   "cell_type": "markdown",
   "metadata": {},
   "source": [
    "## Pandas\n",
    "In this section, we wish to import the data from one of the json file and examine and analyse it.First, I needed to check that python was installed. Then  I import pandas so that I can use the read function. The data in the json file comes from the government website  and contains a list of observations for every hour of the current day for our synoptic station in Athenry, Co Galway. The file is updated hourly. Time values are Local times. The values include: Name; Dry bulb temperature in whole degrees; Weather description, Windspeed (kt); Cardinal Wind Direction; Relative Humidity (%); Rainfall (mm); msl Pressure (mbar); Day of the week; Date; Time of observation. \n",
    "\n",
    "In the sections below, I examine and summarise the data. \n"
   ]
  },
  {
   "cell_type": "code",
   "execution_count": 7,
   "metadata": {},
   "outputs": [
    {
     "name": "stdout",
     "output_type": "stream",
     "text": [
      "Python 3.12.1\n"
     ]
    }
   ],
   "source": [
    "!python --version"
   ]
  },
  {
   "cell_type": "markdown",
   "metadata": {},
   "source": []
  },
  {
   "cell_type": "code",
   "execution_count": 2,
   "metadata": {},
   "outputs": [
    {
     "data": {
      "text/html": [
       "<div>\n",
       "<style scoped>\n",
       "    .dataframe tbody tr th:only-of-type {\n",
       "        vertical-align: middle;\n",
       "    }\n",
       "\n",
       "    .dataframe tbody tr th {\n",
       "        vertical-align: top;\n",
       "    }\n",
       "\n",
       "    .dataframe thead th {\n",
       "        text-align: right;\n",
       "    }\n",
       "</style>\n",
       "<table border=\"1\" class=\"dataframe\">\n",
       "  <thead>\n",
       "    <tr style=\"text-align: right;\">\n",
       "      <th></th>\n",
       "      <th>name</th>\n",
       "      <th>temperature</th>\n",
       "      <th>symbol</th>\n",
       "      <th>weatherDescription</th>\n",
       "      <th>text</th>\n",
       "      <th>windSpeed</th>\n",
       "      <th>windGust</th>\n",
       "      <th>cardinalWindDirection</th>\n",
       "      <th>windDirection</th>\n",
       "      <th>humidity</th>\n",
       "      <th>rainfall</th>\n",
       "      <th>pressure</th>\n",
       "      <th>dayName</th>\n",
       "      <th>date</th>\n",
       "      <th>reportTime</th>\n",
       "    </tr>\n",
       "  </thead>\n",
       "  <tbody>\n",
       "    <tr>\n",
       "      <th>0</th>\n",
       "      <td>Athenry</td>\n",
       "      <td>11</td>\n",
       "      <td>46n</td>\n",
       "      <td>Light rain</td>\n",
       "      <td>\"Recent Drizzle \"</td>\n",
       "      <td>9</td>\n",
       "      <td>-</td>\n",
       "      <td>W</td>\n",
       "      <td>270</td>\n",
       "      <td>99</td>\n",
       "      <td>0.2</td>\n",
       "      <td>1022</td>\n",
       "      <td>Saturday</td>\n",
       "      <td>2024-11-16</td>\n",
       "      <td>00:00</td>\n",
       "    </tr>\n",
       "    <tr>\n",
       "      <th>1</th>\n",
       "      <td>Athenry</td>\n",
       "      <td>11</td>\n",
       "      <td>04n</td>\n",
       "      <td>Cloudy</td>\n",
       "      <td>\"Cloudy\"</td>\n",
       "      <td>9</td>\n",
       "      <td>-</td>\n",
       "      <td>W</td>\n",
       "      <td>270</td>\n",
       "      <td>98</td>\n",
       "      <td>0.0</td>\n",
       "      <td>1021</td>\n",
       "      <td>Saturday</td>\n",
       "      <td>2024-11-16</td>\n",
       "      <td>01:00</td>\n",
       "    </tr>\n",
       "    <tr>\n",
       "      <th>2</th>\n",
       "      <td>Athenry</td>\n",
       "      <td>11</td>\n",
       "      <td>04n</td>\n",
       "      <td>Cloudy</td>\n",
       "      <td>\"Cloudy\"</td>\n",
       "      <td>7</td>\n",
       "      <td>-</td>\n",
       "      <td>W</td>\n",
       "      <td>270</td>\n",
       "      <td>97</td>\n",
       "      <td>0.0</td>\n",
       "      <td>1021</td>\n",
       "      <td>Saturday</td>\n",
       "      <td>2024-11-16</td>\n",
       "      <td>02:00</td>\n",
       "    </tr>\n",
       "    <tr>\n",
       "      <th>3</th>\n",
       "      <td>Athenry</td>\n",
       "      <td>11</td>\n",
       "      <td>04n</td>\n",
       "      <td>Cloudy</td>\n",
       "      <td>\"Cloudy\"</td>\n",
       "      <td>9</td>\n",
       "      <td>-</td>\n",
       "      <td>W</td>\n",
       "      <td>270</td>\n",
       "      <td>99</td>\n",
       "      <td>0.0</td>\n",
       "      <td>1020</td>\n",
       "      <td>Saturday</td>\n",
       "      <td>2024-11-16</td>\n",
       "      <td>03:00</td>\n",
       "    </tr>\n",
       "    <tr>\n",
       "      <th>4</th>\n",
       "      <td>Athenry</td>\n",
       "      <td>11</td>\n",
       "      <td>04n</td>\n",
       "      <td>Cloudy</td>\n",
       "      <td>\"Cloudy\"</td>\n",
       "      <td>7</td>\n",
       "      <td>-</td>\n",
       "      <td>W</td>\n",
       "      <td>270</td>\n",
       "      <td>99</td>\n",
       "      <td>0.0</td>\n",
       "      <td>1020</td>\n",
       "      <td>Saturday</td>\n",
       "      <td>2024-11-16</td>\n",
       "      <td>04:00</td>\n",
       "    </tr>\n",
       "  </tbody>\n",
       "</table>\n",
       "</div>"
      ],
      "text/plain": [
       "      name  temperature symbol weatherDescription               text  \\\n",
       "0  Athenry           11    46n        Light rain   \"Recent Drizzle \"   \n",
       "1  Athenry           11    04n             Cloudy           \"Cloudy\"   \n",
       "2  Athenry           11    04n             Cloudy           \"Cloudy\"   \n",
       "3  Athenry           11    04n             Cloudy           \"Cloudy\"   \n",
       "4  Athenry           11    04n             Cloudy           \"Cloudy\"   \n",
       "\n",
       "   windSpeed windGust cardinalWindDirection  windDirection  humidity  \\\n",
       "0          9        -                     W            270        99   \n",
       "1          9        -                     W            270        98   \n",
       "2          7        -                     W            270        97   \n",
       "3          9        -                     W            270        99   \n",
       "4          7        -                     W            270        99   \n",
       "\n",
       "   rainfall  pressure   dayName       date reportTime  \n",
       "0       0.2      1022  Saturday 2024-11-16      00:00  \n",
       "1       0.0      1021  Saturday 2024-11-16      01:00  \n",
       "2       0.0      1021  Saturday 2024-11-16      02:00  \n",
       "3       0.0      1020  Saturday 2024-11-16      03:00  \n",
       "4       0.0      1020  Saturday 2024-11-16      04:00  "
      ]
     },
     "execution_count": 2,
     "metadata": {},
     "output_type": "execute_result"
    }
   ],
   "source": [
    "import pandas as pd\n",
    "# Pandas provides data structures and analysis tools .\n",
    "# \n",
    "#  I use the function pd.read_json() to read in the json file so I can analyse it\n",
    "\n",
    "weather_athenry = pd.read_json('data/weather/20241116_215129.json')\n",
    "\n",
    "# I can review the data using some functions in pandas:\n",
    "\n",
    "weather_athenry.head(5) # this shows that there was some light rain and it was mainly cloudy for the first 5 hours on Saturday 2024-11-16\n",
    "\n",
    "\n",
    "\n"
   ]
  },
  {
   "cell_type": "code",
   "execution_count": 3,
   "metadata": {},
   "outputs": [
    {
     "name": "stdout",
     "output_type": "stream",
     "text": [
      "<class 'pandas.core.frame.DataFrame'>\n",
      "RangeIndex: 22 entries, 0 to 21\n",
      "Data columns (total 15 columns):\n",
      " #   Column                 Non-Null Count  Dtype         \n",
      "---  ------                 --------------  -----         \n",
      " 0   name                   22 non-null     object        \n",
      " 1   temperature            22 non-null     int64         \n",
      " 2   symbol                 22 non-null     object        \n",
      " 3   weatherDescription     22 non-null     object        \n",
      " 4   text                   22 non-null     object        \n",
      " 5   windSpeed              22 non-null     int64         \n",
      " 6   windGust               22 non-null     object        \n",
      " 7   cardinalWindDirection  22 non-null     object        \n",
      " 8   windDirection          22 non-null     int64         \n",
      " 9   humidity               22 non-null     int64         \n",
      " 10  rainfall               22 non-null     float64       \n",
      " 11  pressure               22 non-null     int64         \n",
      " 12  dayName                22 non-null     object        \n",
      " 13  date                   22 non-null     datetime64[ns]\n",
      " 14  reportTime             22 non-null     object        \n",
      "dtypes: datetime64[ns](1), float64(1), int64(5), object(8)\n",
      "memory usage: 2.7+ KB\n"
     ]
    }
   ],
   "source": [
    "weather_athenry.info() # The in shows us a quick summary of the DataFrame, helping us inspect the structure and contents of the data. THere are 15 columns and 22 rows. \n",
    "#There are integer data type columns for temperature, windspeed , wind direction, humidity  and pressure. The column rainfall is of the data type float.\n",
    "# The date column contains datetime data.\n"
   ]
  },
  {
   "cell_type": "code",
   "execution_count": 4,
   "metadata": {},
   "outputs": [
    {
     "data": {
      "text/plain": [
       "name                     0\n",
       "temperature              0\n",
       "symbol                   0\n",
       "weatherDescription       0\n",
       "text                     0\n",
       "windSpeed                0\n",
       "windGust                 0\n",
       "cardinalWindDirection    0\n",
       "windDirection            0\n",
       "humidity                 0\n",
       "rainfall                 0\n",
       "pressure                 0\n",
       "dayName                  0\n",
       "date                     0\n",
       "reportTime               0\n",
       "dtype: int64"
      ]
     },
     "execution_count": 4,
     "metadata": {},
     "output_type": "execute_result"
    }
   ],
   "source": [
    "# Check if there are missing values \n",
    "weather_athenry.isnull().sum()\n",
    "\n",
    "#There are no missing values so we can do some further analysis"
   ]
  },
  {
   "cell_type": "code",
   "execution_count": 5,
   "metadata": {},
   "outputs": [
    {
     "data": {
      "text/html": [
       "<div>\n",
       "<style scoped>\n",
       "    .dataframe tbody tr th:only-of-type {\n",
       "        vertical-align: middle;\n",
       "    }\n",
       "\n",
       "    .dataframe tbody tr th {\n",
       "        vertical-align: top;\n",
       "    }\n",
       "\n",
       "    .dataframe thead th {\n",
       "        text-align: right;\n",
       "    }\n",
       "</style>\n",
       "<table border=\"1\" class=\"dataframe\">\n",
       "  <thead>\n",
       "    <tr style=\"text-align: right;\">\n",
       "      <th></th>\n",
       "      <th>temperature</th>\n",
       "      <th>windSpeed</th>\n",
       "      <th>windDirection</th>\n",
       "      <th>humidity</th>\n",
       "      <th>rainfall</th>\n",
       "      <th>pressure</th>\n",
       "      <th>date</th>\n",
       "    </tr>\n",
       "  </thead>\n",
       "  <tbody>\n",
       "    <tr>\n",
       "      <th>count</th>\n",
       "      <td>22.000000</td>\n",
       "      <td>22.000000</td>\n",
       "      <td>22.000000</td>\n",
       "      <td>22.000000</td>\n",
       "      <td>22.000000</td>\n",
       "      <td>22.000000</td>\n",
       "      <td>22</td>\n",
       "    </tr>\n",
       "    <tr>\n",
       "      <th>mean</th>\n",
       "      <td>9.227273</td>\n",
       "      <td>8.090909</td>\n",
       "      <td>237.272727</td>\n",
       "      <td>90.681818</td>\n",
       "      <td>0.046818</td>\n",
       "      <td>1021.000000</td>\n",
       "      <td>2024-11-16 00:00:00</td>\n",
       "    </tr>\n",
       "    <tr>\n",
       "      <th>min</th>\n",
       "      <td>7.000000</td>\n",
       "      <td>4.000000</td>\n",
       "      <td>0.000000</td>\n",
       "      <td>76.000000</td>\n",
       "      <td>0.000000</td>\n",
       "      <td>1020.000000</td>\n",
       "      <td>2024-11-16 00:00:00</td>\n",
       "    </tr>\n",
       "    <tr>\n",
       "      <th>25%</th>\n",
       "      <td>8.000000</td>\n",
       "      <td>6.250000</td>\n",
       "      <td>270.000000</td>\n",
       "      <td>85.750000</td>\n",
       "      <td>0.000000</td>\n",
       "      <td>1021.000000</td>\n",
       "      <td>2024-11-16 00:00:00</td>\n",
       "    </tr>\n",
       "    <tr>\n",
       "      <th>50%</th>\n",
       "      <td>9.000000</td>\n",
       "      <td>8.000000</td>\n",
       "      <td>270.000000</td>\n",
       "      <td>91.500000</td>\n",
       "      <td>0.000000</td>\n",
       "      <td>1021.000000</td>\n",
       "      <td>2024-11-16 00:00:00</td>\n",
       "    </tr>\n",
       "    <tr>\n",
       "      <th>75%</th>\n",
       "      <td>10.750000</td>\n",
       "      <td>9.000000</td>\n",
       "      <td>270.000000</td>\n",
       "      <td>97.750000</td>\n",
       "      <td>0.010000</td>\n",
       "      <td>1021.000000</td>\n",
       "      <td>2024-11-16 00:00:00</td>\n",
       "    </tr>\n",
       "    <tr>\n",
       "      <th>max</th>\n",
       "      <td>11.000000</td>\n",
       "      <td>17.000000</td>\n",
       "      <td>315.000000</td>\n",
       "      <td>99.000000</td>\n",
       "      <td>0.500000</td>\n",
       "      <td>1022.000000</td>\n",
       "      <td>2024-11-16 00:00:00</td>\n",
       "    </tr>\n",
       "    <tr>\n",
       "      <th>std</th>\n",
       "      <td>1.445249</td>\n",
       "      <td>2.826896</td>\n",
       "      <td>97.391298</td>\n",
       "      <td>8.061587</td>\n",
       "      <td>0.117934</td>\n",
       "      <td>0.617213</td>\n",
       "      <td>NaN</td>\n",
       "    </tr>\n",
       "  </tbody>\n",
       "</table>\n",
       "</div>"
      ],
      "text/plain": [
       "       temperature  windSpeed  windDirection   humidity   rainfall  \\\n",
       "count    22.000000  22.000000      22.000000  22.000000  22.000000   \n",
       "mean      9.227273   8.090909     237.272727  90.681818   0.046818   \n",
       "min       7.000000   4.000000       0.000000  76.000000   0.000000   \n",
       "25%       8.000000   6.250000     270.000000  85.750000   0.000000   \n",
       "50%       9.000000   8.000000     270.000000  91.500000   0.000000   \n",
       "75%      10.750000   9.000000     270.000000  97.750000   0.010000   \n",
       "max      11.000000  17.000000     315.000000  99.000000   0.500000   \n",
       "std       1.445249   2.826896      97.391298   8.061587   0.117934   \n",
       "\n",
       "          pressure                 date  \n",
       "count    22.000000                   22  \n",
       "mean   1021.000000  2024-11-16 00:00:00  \n",
       "min    1020.000000  2024-11-16 00:00:00  \n",
       "25%    1021.000000  2024-11-16 00:00:00  \n",
       "50%    1021.000000  2024-11-16 00:00:00  \n",
       "75%    1021.000000  2024-11-16 00:00:00  \n",
       "max    1022.000000  2024-11-16 00:00:00  \n",
       "std       0.617213                  NaN  "
      ]
     },
     "execution_count": 5,
     "metadata": {},
     "output_type": "execute_result"
    }
   ],
   "source": [
    "#Look at the summary statistics \n",
    "weather_athenry.describe()\n",
    "# We can see that the maximum temperature was 11 and the minimum temperature was 7"
   ]
  },
  {
   "cell_type": "markdown",
   "metadata": {},
   "source": [
    "[https://medium.com/@andrewdass/how-to-execute-sh-files-71d8885d8ef3#:~:text=A%20file%20with%20the%20%E2%80%9C.,files%20in%20Unix%20or%20Linux](https://medium.com/@andrewdass/how-to-execute-sh-files-71d8885d8ef3#:~:text=A%20file%20with%20the%20%E2%80%9C.,files%20in%20Unix%20or%20Linux.)"
   ]
  },
  {
   "cell_type": "code",
   "execution_count": null,
   "metadata": {},
   "outputs": [
    {
     "data": {
      "image/png": "[encoded data removed]",
      "text/plain": [
       "<Figure size 1000x600 with 1 Axes>"
      ]
     },
     "metadata": {},
     "output_type": "display_data"
    }
   ],
   "source": [
    "#We can show a plot of the temperature over the day\n",
    "\n",
    "import matplotlib.pyplot as plt\n",
    "\n",
    "plt.figure(figsize=(10, 6))\n",
    "plt.plot(weather_athenry['reportTime'], weather_athenry['temperature'])\n",
    "plt.title('Temperature over day in November')\n",
    "plt.xlabel('Time')\n",
    "plt.ylabel('Temperature')\n",
    "plt.xticks(rotation=45)\n",
    "plt.show()\n",
    "\n",
    "# This shows us that the temperature was at its highest from midnight until 5am, then it dropped and rose again at different hours during the day but fell to its lowest temperature at 7pm to 9pm.     \n"
   ]
  },
  {
   "cell_type": "code",
   "execution_count": 13,
   "metadata": {},
   "outputs": [
    {
     "name": "stdout",
     "output_type": "stream",
     "text": [
      "             rainfall  temperature\n",
      "rainfall     1.000000     0.099435\n",
      "temperature  0.099435     1.000000\n"
     ]
    }
   ],
   "source": [
    "## I want to check if there is a correlation between the rain and the temperature\n",
    "rain_temp_data = weather_athenry[['rainfall', 'temperature']]\n",
    "correlation = rain_temp_data.corr()\n",
    "print(correlation)\n",
    "\n",
    "#This is a low correlation, meaning that the temperature and rainfall are not linked and not dependent on one another, if the rainfall is heavier , it does not mean the temperature is colder or hotter."
   ]
  }
 ],
 "metadata": {
  "kernelspec": {
   "display_name": "Python 3",
   "language": "python",
   "name": "python3"
  },
  "language_info": {
   "codemirror_mode": {
    "name": "ipython",
    "version": 3
   },
   "file_extension": ".py",
   "mimetype": "text/x-python",
   "name": "python",
   "nbconvert_exporter": "python",
   "pygments_lexer": "ipython3",
   "version": "3.12.1"
  }
 },
 "nbformat": 4,
 "nbformat_minor": 2
}
