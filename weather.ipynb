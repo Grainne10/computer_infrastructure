{
 "cells": [
  {
   "cell_type": "markdown",
   "metadata": {},
   "source": [
    "# Computer infrastructure - Tasks\n",
    "\n",
    "**by Grainne Boyle**\n",
    "\n",
    "\n",
    "This notebook describes the weekly tasks I have completed for the Computer infrastructure module.\n"
   ]
  },
  {
   "cell_type": "markdown",
   "metadata": {},
   "source": [
    "**Contents:** \n",
    "\n",
    "1. [Task 1](#create-directory-structure)\n",
    "2. [Task 2](#timestamps)\n",
    "3. [Task 3](#formatting-timestamps)\n",
    "4. [Task 4](#create-timestamped-file)\n",
    "5. [Task 5](#download-todays-weather-data)\n",
    "6. [Task 6](#timestamp-the-data)\n",
    "7. [Task 7](#write-the-script)\n",
    "8. [Task 8](#notebook)\n",
    "9. [Task 9](#pandas)\n",
    "\n"
   ]
  },
  {
   "cell_type": "markdown",
   "metadata": {},
   "source": [
    "### Task 1 : Create Directory Structure\n",
    "\n",
    "In code spaces, I created a new directory structure called data using the `mkdir` command. The command stands for  make directory and is used to create a folder within the main directory. I created two sub-directories within data: timestamps and weather,  again using mkdir. To create the parent directory data and the sub-directory timestamps, I used the following command:   ```mkdir -p data/timestamps```.  \n",
    "The -p flag ensures that if the parent directory data does not exist, it will be created along with the timestamps subdirectory."
   ]
  },
  {
   "cell_type": "markdown",
   "metadata": {},
   "source": [
    "### Task 2 : Timestamps\n",
    "\n",
    "In the codespace, I ran the `date` command , which printed the current date and time . To save this output to a file, I used double angle brackets (>>) to redirect and append the output to a new file called now.txt. The command was:  \n",
    "```date >> now.txt``` \n",
    "By running this command ten times, using the double angled brackets , new output was appended to now.txt. The double angle brackets ensure that the command output is added to the file without overwriting it. If I had used a single angled bracket , >, this would over-write the file each time the command is executed. The result of the running this command ten times can be seen in the now.txt file , which shows a list of dates and times. In this case, the dates and hours are the same, but the minutes and seconds differ with each execution.\n",
    " "
   ]
  },
  {
   "cell_type": "markdown",
   "metadata": {},
   "source": [
    "### Task 3 : Formatting Timestamps\n",
    "In the codespace, I formatted the `date` command using `YYYYmmdd_HHMMSS`. In this format, I used upper case letters for the year, hour, minute and second, and lower case for the month and day. You can view the manual for the `date` command by running `man date`, which explains the different format specifiers you can use to customize how the date and time appear. When I entered the following command:  \n",
    "```date + \"YYYYmmdd_HHMMSS\" ```\n",
    "It displayed the formatted date and time in the command line. Next I appended the formatted output date to a file named formatted.txt. This was done using the double angle brackets (>>), like so:\n",
    "```date +\"YYYYmmdd_HHMMSS\" >> formatted.txt```\n",
    "This created a new text file in my folder, if you open this text file you can see the date and time it was created, formatted as specified."
   ]
  },
  {
   "cell_type": "markdown",
   "metadata": {},
   "source": [
    "\n",
    "## Task 4 : Create Timestamped File\n",
    "\n",
    "In the codespace, I used the Touch command to create a new timestamped file. I used backtick to capture the output of the command and use it as part of the touch command. I used touch `date +\"YYYYmmdd_HHMMSS\"`.txt to create an empty timestamped file.\n",
    "\n"
   ]
  },
  {
   "cell_type": "markdown",
   "metadata": {},
   "source": [
    "## Task 5 : Download Todays Weather Data\n",
    "\n",
    " I opened the Met Eireann website and found the weather data for today. I then used wget and   \n",
    " ```wget https://prodapi.metweb.ie/observations/athenry/today  ```\n",
    "\n",
    " The wget commands allows you to download files from the Internet into your active directory. then i use wget with -O  and this is used to write the output to a file called weather.json\n",
    "\n",
    " ```wget+0 weather.json https://prodapi.metweb.ie/observations/athenry/today  ```\n",
    "\n",
    " If you open the file, you can see see the data from athenry in json format.\n",
    "\n",
    " "
   ]
  },
  {
   "cell_type": "markdown",
   "metadata": {},
   "source": [
    "## Task 6 : Timestamp the Data\n",
    "\n",
    " Using the cURL command,  I downloaded the data again and saved it to a file in my directory with a timestamped name in the format.\n",
    "\n",
    " ``` curl -o `date +\"%Y%m%d_%H%M%S.json\"` https://prodapi.metweb.ie/observations/athenry/today```\n",
    "This saved the athenry data to a file named \"20241116__215129.json which is when the file was created 16th November 2024 at 9:51:29pm. If you open the file you can see the downloaded data from the Athenry weather today.\n",
    "\n",
    "\n",
    "[https://blog.hubspot.com/website/curl-command](https://blog.hubspot.com/website/curl-command) you can send or retrieve data using this command. cURL is short for \"client URL\". It can be used instead of the wget command. If you were enter the command with the URL, the URL data will print in the terminal. In our case, we have used it to pull the data and save that data to a file with a stamped name in the format YYYYmmdd_HHMMSS\n",
    "\n",
    "\n"
   ]
  },
  {
   "cell_type": "markdown",
   "metadata": {},
   "source": [
    "## Task 7 : Write the Script\n",
    "\n",
    "I created a file in my repository called weather.sh. A file with the extension .sh is a shell file or program that can be run in a command line interface. It can be used to automate processes.\n",
    "The script can command the computer or machine to run the tasks at a scheduled time. The shebang phrase \"#!/bin/bash signifies the file is a shell script and must be the first line of the script.\n",
    "When I load the command used in the previous step to my script but I want to save the output to the directory data/weather/ that that file is in   ``` curl -o data/weather/`date +\"%Y%m%d_%H%M%S.json\"` https://prodapi.metweb.ie/observations/athenry/today```\n",
    "You can also use echo\"enter string or variable\" By using 'echo', strings or variables can be executed. \n",
    "\n",
    "Also, I need to change the mode of the file, when I tried to run it is showed permission denied. The command 'chmod' stands for 'change mode', and 'u+x' instructs the system to give the user(u) permissions to execute (x) the file. I entered ```chmod u+x ./weather.sh``` in the command line. Then when I run the program in the command line,\n"
   ]
  },
  {
   "cell_type": "markdown",
   "metadata": {},
   "source": [
    "## Task 8 : Notebook\n",
    "\n",
    "I created this jupyter notebook called weather.ipynb. "
   ]
  },
  {
   "cell_type": "markdown",
   "metadata": {},
   "source": [
    "## Task 9 : Pandas\n",
    "\n"
   ]
  },
  {
   "cell_type": "markdown",
   "metadata": {},
   "source": [
    "[https://medium.com/@andrewdass/how-to-execute-sh-files-71d8885d8ef3#:~:text=A%20file%20with%20the%20%E2%80%9C.,files%20in%20Unix%20or%20Linux](https://medium.com/@andrewdass/how-to-execute-sh-files-71d8885d8ef3#:~:text=A%20file%20with%20the%20%E2%80%9C.,files%20in%20Unix%20or%20Linux.)"
   ]
  }
 ],
 "metadata": {
  "language_info": {
   "name": "python"
  }
 },
 "nbformat": 4,
 "nbformat_minor": 2
}
